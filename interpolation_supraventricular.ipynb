{
 "cells": [
  {
   "cell_type": "code",
   "execution_count": 10,
   "metadata": {},
   "outputs": [],
   "source": [
    "from __future__ import absolute_import\n",
    "from __future__ import division\n",
    "from __future__ import print_function\n",
    "import os\n",
    "import glob\n",
    "import numpy as np\n",
    "\n",
    "def interpolate(f1, f2, data):\n",
    "    #f1 la tan so can chuyen\n",
    "    #f2 la tan so cua data\n",
    "    tmp1 = f1 * 30\n",
    "    tmp2 = f2 * 30\n",
    "    x1 = np.linspace(1, tmp2, tmp1)\n",
    "    x2 = np.linspace(1, tmp2, tmp2)\n",
    "    data_interp = np.interp(x1, x2, data)\n",
    "    return data_interp\n",
    "\n",
    "def interp_data_from_folder(path):\n",
    "    file_list = glob.glob(path + '/*.txt')\n",
    "    for file_path in file_list:\n",
    "        tmp = np.genfromtxt(file_path)      \n",
    "        #print(os.path.basename(file_path))\n",
    "        l = tmp[-1]\n",
    "        s = tmp[:-1]\n",
    "        s_interp = interpolate(360, 128, s)\n",
    "        #print(s_interp.shape)\n",
    "        s_final = np.append(s_interp, [l])\n",
    "        file_name = './tt_interp/' + os.path.basename(file_path)\n",
    "        #print(file_name)\n",
    "        np.savetxt(file_name, s_final)\n",
    "    return 0\n"
   ]
  },
  {
   "cell_type": "code",
   "execution_count": 11,
   "metadata": {},
   "outputs": [
    {
     "data": {
      "text/plain": [
       "0"
      ]
     },
     "execution_count": 11,
     "metadata": {},
     "output_type": "execute_result"
    }
   ],
   "source": [
    "interp_data_from_folder(\"./tt\")"
   ]
  },
  {
   "cell_type": "code",
   "execution_count": 6,
   "metadata": {},
   "outputs": [
    {
     "name": "stdout",
     "output_type": "stream",
     "text": [
      "(10801,)\n"
     ]
    }
   ],
   "source": [
    "A = np.loadtxt(\"./s_interp/822m.mat_66101_to_199450_16.txt\")\n",
    "print(A.shape)\n"
   ]
  },
  {
   "cell_type": "code",
   "execution_count": null,
   "metadata": {},
   "outputs": [],
   "source": []
  }
 ],
 "metadata": {
  "kernelspec": {
   "display_name": "Python 3",
   "language": "python",
   "name": "python3"
  },
  "language_info": {
   "codemirror_mode": {
    "name": "ipython",
    "version": 3
   },
   "file_extension": ".py",
   "mimetype": "text/x-python",
   "name": "python",
   "nbconvert_exporter": "python",
   "pygments_lexer": "ipython3",
   "version": "3.5.2"
  }
 },
 "nbformat": 4,
 "nbformat_minor": 2
}
