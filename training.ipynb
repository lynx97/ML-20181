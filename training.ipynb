{
 "cells": [
  {
   "cell_type": "code",
   "execution_count": 4,
   "metadata": {},
   "outputs": [],
   "source": [
    "import numpy as np\n",
    "import matplotlib.pyplot as plt\n",
    "# plt.rcParams['figure.figsize'] = [14, 6]\n",
    "from sklearn.neural_network import MLPClassifier\n",
    "from sklearn.metrics import accuracy_score\n",
    "from biosppy.signals import ecg\n",
    "#\n",
    "from hrv.classical import time_domain\n",
    "from hrv.classical import frequency_domain\n",
    "from hrv.classical import non_linear\n",
    "from sklearn.preprocessing import MinMaxScaler, StandardScaler\n",
    "from sklearn.model_selection import KFold\n",
    "from joblib import dump, load\n"
   ]
  },
  {
   "cell_type": "code",
   "execution_count": 5,
   "metadata": {},
   "outputs": [
    {
     "name": "stdout",
     "output_type": "stream",
     "text": [
      "(833, 10801)\n",
      "(1253, 10801)\n",
      "(902, 10801)\n",
      "(935, 10801)\n",
      "(1105, 10801)\n"
     ]
    }
   ],
   "source": [
    "data1 = np.load(\"1.npy\")\n",
    "data2 = np.load(\"2.npy\")\n",
    "data3 = np.load(\"3.npy\")\n",
    "data4 = np.load(\"4.npy\")\n",
    "data5 = np.load(\"5.npy\")\n",
    "print(data1.shape)\n",
    "print(data2.shape)\n",
    "print(data3.shape)\n",
    "print(data4.shape)\n",
    "print(data5.shape)"
   ]
  },
  {
   "cell_type": "code",
   "execution_count": 6,
   "metadata": {},
   "outputs": [],
   "source": [
    "def hrvAnalysis(NN):\n",
    "    diffNN = np.absolute(np.diff(NN))\n",
    "    L = len(NN)    \n",
    "    ANN = np.mean(NN)\n",
    "    SDNN = np.std(NN)\n",
    "    SDSD = np.std(diffNN)    \n",
    "    #NN50 = len(np.where(np.diff(NN) > 0.05)[0])    \n",
    "    NN50 = diffNN[diffNN > 0.05].size\n",
    "    pNN50 = NN50/(L - 1)    \n",
    "    rMSSD = np.sqrt(1/(L-1) * sum(diffNN ** 2))        \n",
    "    rangeNum = np.ptp(NN)\n",
    "    \n",
    "    #non linear: pointcare & entropy\n",
    "    #pointcare\n",
    "    sd1, sd2 = poincare(NN)\n",
    "    #entropy\n",
    "    prob_NN = NN / NN.sum()\n",
    "    shannon = -np.sum(prob_NN*np.log2(prob_NN))\n",
    "    \n",
    "    \n",
    "    timeDomainFeats = {'ANN': ANN, 'SDNN': SDNN,\n",
    "                       'pNN50': pNN50, 'rMSSD':rMSSD, 'sd1': sd1, 'sd2': sd2, 'shannon': shannon}\n",
    "                       \n",
    "    return timeDomainFeats\n",
    "\n",
    "def poincare(rri):\n",
    "    diff_rri = np.absolute(np.diff(rri))\n",
    "    sd1 = np.sqrt(np.std(diff_rri, ddof=1) ** 2 * 0.5)\n",
    "    sd2 = np.sqrt(2 * np.std(rri, ddof=1) ** 2 - 0.5 * np.std(diff_rri,\n",
    "                                                              ddof=1) ** 2)\n",
    "    return sd1, sd2\n",
    "\n",
    "def cal_r_peaks(signal, sampling_rate):\n",
    "    \"\"\"\n",
    "    \"\"\"\n",
    "    rpeaks, = ecg.hamilton_segmenter(signal=signal,\n",
    "                                     sampling_rate=sampling_rate)\n",
    "    rpeaks, = ecg.correct_rpeaks(signal=signal,\n",
    "                                 rpeaks=rpeaks,\n",
    "                                 sampling_rate=sampling_rate,\n",
    "                                 tol=0.05)\n",
    "    templates, rpeaks = ecg.extract_heartbeats(signal=signal,\n",
    "                                               rpeaks=rpeaks,\n",
    "                                               sampling_rate=sampling_rate,\n",
    "                                               before=0.2,\n",
    "                                               after=0.4)\n",
    "    return rpeaks\n",
    "\n",
    "def create_features(raw_data, fs):\n",
    "    \"\"\"\n",
    "    \"\"\"\n",
    "    data  = raw_data[:, :-1]\n",
    "    label = raw_data[:, -1]\n",
    "\n",
    "    result = []\n",
    "    for x in data:\n",
    "        rpeaks = cal_r_peaks(x, fs)\n",
    "        tmp = np.diff(rpeaks)\n",
    "        rri = tmp * 1.0 / fs\n",
    "\n",
    "        time = hrvAnalysis(rri)\n",
    "        result.append(list(time.values()))\n",
    "        \n",
    "    result = np.array(result)\n",
    "    return result, label\n",
    "\n",
    "def train(training_data, testing_data, training_label, testing_label, hidden_layer, activation):\n",
    "    \n",
    "    #model\n",
    "    model = MLPClassifier(solver='lbfgs', alpha=5e-3, activation = activation, hidden_layer_sizes=(hidden_layer), learning_rate_init=0.001, max_iter=400)\n",
    "    model.fit(X=training_data, y=training_label)\n",
    "    prediction = model.predict(testing_data)\n",
    "    accuracy = accuracy_score(prediction, testing_label)\n",
    "    loss = model.loss_\n",
    "    iteration = model.n_iter_\n",
    "    return accuracy, loss, iteration\n",
    "\n",
    "def kfold(d1, d2, d3, d4, d5, l1, l2, l3, l4, l5, hidden_layer, activation):\n",
    "    #fold 1\n",
    "    training1 = np.concatenate((d2, d3, d4, d5), 0)\n",
    "    training_label1 = np.concatenate((l2, l3, l4, l5), 0)\n",
    "    accuracy1, loss1, iteration1 = train(training1, d1, training_label1, l1, hidden_layer, activation)\n",
    "    #print(\"accuracy:\", accuracy1, \"loss\", loss1, \"iteration\", iteration1)\n",
    "    #end\n",
    "\n",
    "    #fold 2\n",
    "    training2 = np.concatenate((d1, d3, d4, d5), 0)\n",
    "    training_label2 = np.concatenate((l1, l3, l4, l5), 0)\n",
    "    accuracy2, loss2, iteration2 = train(training2, d2, training_label2, l2, hidden_layer, activation)\n",
    "    #print(\"accuracy:\", accuracy2, \"loss\", loss2, \"iteration\", iteration2)\n",
    "    #end\n",
    "\n",
    "    #fold 3\n",
    "    training3 = np.concatenate((d2, d1, d4, d5), 0)\n",
    "    training_label3 = np.concatenate((l2, l1, l4, l5), 0)\n",
    "    accuracy3, loss3, iteration3 = train(training3, d3, training_label3, l3, hidden_layer, activation)\n",
    "    #print(\"accuracy:\", accuracy3, \"loss\", loss3, \"iteration\", iteration3)\n",
    "    #end\n",
    "\n",
    "    #fold 4\n",
    "    training4 = np.concatenate((d2, d3, d1, d5), 0)\n",
    "    training_label4 = np.concatenate((l2, l3, l1, l5), 0)\n",
    "    accuracy4, loss4, iteration4 = train(training4, d4, training_label4, l4, hidden_layer, activation)\n",
    "    #print(\"accuracy:\", accuracy4, \"loss\", loss4, \"iteration\", iteration4)\n",
    "    #end\n",
    "\n",
    "    #fold 5\n",
    "    training5 = np.concatenate((d2, d3, d4, d1), 0)\n",
    "    training_label5 = np.concatenate((l2, l3, l4, l1), 0)\n",
    "    accuracy5, loss5, iteration5 = train(training5, d5, training_label5, l5, hidden_layer, activation)\n",
    "    #print(\"accuracy:\", accuracy5, \"loss\", loss5, \"iteration\", iteration5)\n",
    "    #end\n",
    "    accuracy_average = (accuracy1 + accuracy2 + accuracy3 + accuracy4 + accuracy5)/5\n",
    "    return accuracy_average\n",
    "\n",
    "def modelSelection(list_activation, list_hidden, d1, d2, d3, d4, d5):\n",
    "    \n",
    "    #create features\n",
    "    training1, label1 = create_features(d1, 360)\n",
    "    training2, label2 = create_features(d2, 360)\n",
    "    training3, label3 = create_features(d3, 360)\n",
    "    training4, label4 = create_features(d4, 360)\n",
    "    training5, label5 = create_features(d5, 360)\n",
    "    \n",
    "    best_activation = \"\"\n",
    "    g_accuracy = 0.1\n",
    "    best_hidden = list_hidden[0]\n",
    "    i = 0\n",
    "    for activation in list_activation:\n",
    "        for hidden_layer in list_hidden:\n",
    "            accuracy = kfold(training1, training2, training3, training4, training5, label1, label2, label3, label4, label5, hidden_layer, activation)\n",
    "            i = i+1\n",
    "            if(accuracy > g_accuracy):\n",
    "                print(\"ith: \", i, \"accuracy: \", accuracy, \"hidden_layer\", hidden_layer, \"activation: \", activation)\n",
    "                g_accuracy = accuracy\n",
    "                best_hidden = hidden_layer\n",
    "                best_activation = activation\n",
    "    return g_accuracy, best_hidden, best_activation\n",
    "                "
   ]
  },
  {
   "cell_type": "code",
   "execution_count": 7,
   "metadata": {},
   "outputs": [],
   "source": [
    "#init the potential parameter - hidden layer\n",
    "B = np.linspace(15, 25, 11, dtype=int)\n",
    "C = np.append(B, B.T, axis = 0)\n",
    "D = C.reshape((2, 11))\n",
    "A2 = D.T\n",
    "B = B.reshape((11,1))\n",
    "A3 = np.append(A2, B, axis = 1)\n",
    "A4 = np.append(A3, B, axis = 1)\n",
    "\n",
    "#init activation\n",
    "list_activation = ['logistic', 'tanh', 'relu']"
   ]
  },
  {
   "cell_type": "code",
   "execution_count": 8,
   "metadata": {},
   "outputs": [
    {
     "name": "stdout",
     "output_type": "stream",
     "text": [
      "ith:  1 accuracy:  0.7328463121608755 hidden_layer [15 15] activation:  logistic\n",
      "ith:  2 accuracy:  0.7987466594305159 hidden_layer [16 16] activation:  logistic\n",
      "ith:  4 accuracy:  0.8112515112126261 hidden_layer [18 18] activation:  logistic\n",
      "ith:  10 accuracy:  0.8150222395859782 hidden_layer [24 24] activation:  logistic\n",
      "ith:  24 accuracy:  0.8356642173409508 hidden_layer [16 16] activation:  relu\n",
      "g_acc1:  0.8356642173409508  best_hiddent1:  [16 16] best_activation1: relu\n",
      "ith:  1 accuracy:  0.7851606335064687 hidden_layer [15 15 15] activation:  logistic\n",
      "ith:  2 accuracy:  0.8094596291917842 hidden_layer [16 16 16] activation:  logistic\n",
      "ith:  8 accuracy:  0.831338918174988 hidden_layer [22 22 22] activation:  logistic\n",
      "g_acc2:  0.831338918174988  best_hiddent2:  [22 22 22] best_activation2: logistic\n",
      "ith:  1 accuracy:  0.5644459067962144 hidden_layer [15 15 15 15] activation:  logistic\n",
      "ith:  12 accuracy:  0.7562659977914958 hidden_layer [15 15 15 15] activation:  tanh\n",
      "ith:  13 accuracy:  0.8207328962360272 hidden_layer [16 16 16 16] activation:  tanh\n",
      "ith:  14 accuracy:  0.8245048633902472 hidden_layer [17 17 17 17] activation:  tanh\n",
      "ith:  15 accuracy:  0.8480770615498289 hidden_layer [18 18 18 18] activation:  tanh\n",
      "g_acc3:  0.8480770615498289  best_hiddent3:  [18 18 18 18] best_activation3: tanh\n",
      "ith:  1 accuracy:  0.8192805921494257 hidden_layer [15] activation:  logistic\n",
      "ith:  12 accuracy:  0.8342732632659935 hidden_layer [15] activation:  tanh\n",
      "ith:  31 accuracy:  0.8496982582673052 hidden_layer [23] activation:  relu\n",
      "g_acc4:  0.8496982582673052  best_hiddent4:  [23] best_activation4: relu\n"
     ]
    }
   ],
   "source": [
    "#model selection\n",
    "g_loss1, best_hidden1, best_activation1 = modelSelection(list_activation, A2, data1, data2, data3, data4, data5)\n",
    "print(\"g_acc1: \", g_loss1, \" best_hiddent1: \", best_hidden1, \"best_activation1:\", best_activation1)\n",
    "\n",
    "g_loss2, best_hidden2, best_activation2 = modelSelection(list_activation, A3, data1, data2, data3, data4, data5)\n",
    "print(\"g_acc2: \", g_loss2, \" best_hiddent2: \", best_hidden2, \"best_activation2:\", best_activation2)\n",
    "\n",
    "g_loss3, best_hidden3, best_activation3 = modelSelection(list_activation, A4, data1, data2, data3, data4, data5)\n",
    "print(\"g_acc3: \", g_loss3, \" best_hiddent3: \", best_hidden3, \"best_activation3:\", best_activation3)\n",
    "\n",
    "g_loss4, best_hidden4, best_activation4 = modelSelection(list_activation, B, data1, data2, data3, data4, data5)\n",
    "print(\"g_acc4: \", g_loss4, \" best_hiddent4: \", best_hidden4, \"best_activation4:\", best_activation4)"
   ]
  },
  {
   "cell_type": "code",
   "execution_count": 9,
   "metadata": {},
   "outputs": [],
   "source": [
    "#the best architechture: (23), activation: relu\n",
    "\n",
    "#training with all data and the best architechture\n",
    "all_data = np.concatenate((data1, data2, data3, data4, data5), 0)\n",
    "\n",
    "all_training_data, all_label_data = create_features(all_data, 360)\n",
    "\n",
    "#scaled data\n",
    "scaler = StandardScaler()\n",
    "scaler.fit(all_training_data)\n",
    "scaled_training_features = scaler.transform(all_training_data)\n",
    "    \n",
    "#model\n",
    "model = MLPClassifier(solver='lbfgs', alpha=5e-3, activation = \"relu\", hidden_layer_sizes=(23), learning_rate_init=0.01, max_iter=400)\n",
    "model.fit(X=scaled_training_features, y=all_label_data)\n",
    "loss = model.loss_\n",
    "iteration = model.n_iter_\n"
   ]
  },
  {
   "cell_type": "code",
   "execution_count": 10,
   "metadata": {},
   "outputs": [
    {
     "data": {
      "text/plain": [
       "['model.pkl']"
      ]
     },
     "execution_count": 10,
     "metadata": {},
     "output_type": "execute_result"
    }
   ],
   "source": [
    "#save the model\n",
    "dump(model, 'model.pkl')"
   ]
  },
  {
   "cell_type": "code",
   "execution_count": 39,
   "metadata": {},
   "outputs": [],
   "source": [
    "#load the model\n",
    "clf = load('model.pkl')"
   ]
  },
  {
   "cell_type": "code",
   "execution_count": 40,
   "metadata": {},
   "outputs": [],
   "source": [
    "#testing data\n",
    "test_data = np.load('test_data.npy')\n",
    "testing_data, testing_label = create_features(test_data, 360)\n",
    "\n",
    "#scaled data\n",
    "scaler = StandardScaler()\n",
    "scaler.fit(testing_data)\n",
    "scaled_testing_features = scaler.transform(testing_data)\n",
    "\n",
    "#predict & assesment\n",
    "pred = clf.predict(scaled_testing_features)\n"
   ]
  },
  {
   "cell_type": "code",
   "execution_count": 49,
   "metadata": {},
   "outputs": [
    {
     "name": "stdout",
     "output_type": "stream",
     "text": [
      "testing accuracy:  0.7945026178010471\n",
      "confusion matrix: \n",
      "[[322   2   9]\n",
      " [ 48 188  27]\n",
      " [ 49  22  97]]\n",
      "---------------------------------------------------------------\n",
      "precision for label 0:  0.7684964200477327\n",
      "precision for label 1:  0.8867924528301887\n",
      "precision for label 2:  0.7293233082706767\n",
      "---------------------------------------------------------------\n",
      "f1 score for label 0:  0.9669669669669669\n",
      "f1 score for label 1:  0.714828897338403\n",
      "f1 score for label 2:  0.5773809523809523\n"
     ]
    }
   ],
   "source": [
    "from sklearn.metrics import confusion_matrix\n",
    "from sklearn.metrics import f1_score\n",
    "from sklearn.metrics import precision_score\n",
    "from sklearn.metrics import recall_score\n",
    "import seaborn as sn\n",
    "import pandas as pd\n",
    "import matplotlib.pyplot as plt\n",
    "\n",
    "test_accuracy = accuracy_score(testing_label, pred)\n",
    "confusion_matrix = confusion_matrix(testing_label, pred)\n",
    "print(\"testing accuracy: \", test_accuracy)\n",
    "print(\"confusion matrix: \")\n",
    "print(confusion_matrix)\n",
    "print(\"---------------------------------------------------------------\")\n",
    "p_0 = 322/(322 + 48 + 49)\n",
    "p_1 = 188/(188 + 2 + 22)\n",
    "p_2 = 97/(97 + 27 + 9)\n",
    "print(\"precision for label 0: \", p_0)\n",
    "print(\"precision for label 1: \", p_1)\n",
    "print(\"precision for label 2: \", p_2)\n",
    "\n",
    "print(\"---------------------------------------------------------------\")\n",
    "f1_0 = 322/(322 + 2 + 9)\n",
    "f1_1 = 188/(188+48+27)\n",
    "f1_2 = 97/(97+22+49)\n",
    "\n",
    "print(\"f1 score for label 0: \", f1_0)\n",
    "print(\"f1 score for label 1: \", f1_1)\n",
    "print(\"f1 score for label 2: \", f1_2)"
   ]
  },
  {
   "cell_type": "code",
   "execution_count": 55,
   "metadata": {},
   "outputs": [
    {
     "data": {
      "text/plain": [
       "<matplotlib.axes._subplots.AxesSubplot at 0x7f5ac08b77b8>"
      ]
     },
     "execution_count": 55,
     "metadata": {},
     "output_type": "execute_result"
    },
    {
     "data": {
      "image/png": "[encoded data removed]",
      "text/plain": [
       "<Figure size 720x720 with 2 Axes>"
      ]
     },
     "metadata": {},
     "output_type": "display_data"
    }
   ],
   "source": [
    "#visualize confusion matrix\n",
    "df_cm = pd.DataFrame(confusion_matrix, index = ['normal','AF','SA'],\n",
    "                  columns = ['normal','AF','SA'])\n",
    "plt.figure(figsize = (10,10))\n",
    "sn.set(font_scale=1.4)#for label size\n",
    "sn.heatmap(df_cm, annot=True,fmt=\"d\",annot_kws={\"size\": 16})# font size"
   ]
  },
  {
   "cell_type": "code",
   "execution_count": null,
   "metadata": {},
   "outputs": [],
   "source": []
  }
 ],
 "metadata": {
  "kernelspec": {
   "display_name": "Python 3",
   "language": "python",
   "name": "python3"
  },
  "language_info": {
   "codemirror_mode": {
    "name": "ipython",
    "version": 3
   },
   "file_extension": ".py",
   "mimetype": "text/x-python",
   "name": "python",
   "nbconvert_exporter": "python",
   "pygments_lexer": "ipython3",
   "version": "3.5.2"
  }
 },
 "nbformat": 4,
 "nbformat_minor": 2
}
