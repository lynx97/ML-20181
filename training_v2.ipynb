{
 "cells": [
  {
   "cell_type": "code",
   "execution_count": 23,
   "metadata": {},
   "outputs": [],
   "source": [
    "import numpy as np\n",
    "import matplotlib.pyplot as plt\n",
    "# plt.rcParams['figure.figsize'] = [14, 6]\n",
    "from sklearn.neural_network import MLPClassifier\n",
    "from sklearn.metrics import accuracy_score\n",
    "from biosppy.signals import ecg\n",
    "#\n",
    "from hrv.classical import time_domain\n",
    "from hrv.classical import frequency_domain\n",
    "from hrv.classical import non_linear\n",
    "from sklearn.preprocessing import MinMaxScaler, StandardScaler\n",
    "attributes = ['ANN', 'SDNN', 'SDSD', 'NN50', 'pNN50', 'NN20', 'pNN20', 'rMSSD', 'MedianNN']"
   ]
  },
  {
   "cell_type": "code",
   "execution_count": 24,
   "metadata": {},
   "outputs": [],
   "source": [
    "def timeDomain(NN):\n",
    "    \n",
    "    L = len(NN)    \n",
    "    ANN = np.mean(NN)\n",
    "    SDNN = np.std(NN)\n",
    "    SDSD = np.std(np.diff(NN))    \n",
    "    NN50 = len(np.where(np.diff(NN) > 0.05)[0])    \n",
    "    pNN50 = NN50/L    \n",
    "    NN20 = len(np.where(np.diff(NN) > 0.02)[0])\n",
    "    pNN20 = NN20/L\n",
    "    rMSSD = np.sqrt((1/L) * sum(np.diff(NN) ** 2))        \n",
    "    MedianNN = np.median(NN)\n",
    "    \n",
    "    timeDomainFeats = {'ANN': ANN, 'SDNN': SDNN,\n",
    "                       'SDSD': SDSD,\n",
    "                       'pNN50': pNN50}\n",
    "                       \n",
    "    return timeDomainFeats\n",
    "\n",
    "def cal_r_peaks(signal, sampling_rate):\n",
    "    \"\"\"\n",
    "    \"\"\"\n",
    "    rpeaks, = ecg.hamilton_segmenter(signal=signal,\n",
    "                                     sampling_rate=sampling_rate)\n",
    "    rpeaks, = ecg.correct_rpeaks(signal=signal,\n",
    "                                 rpeaks=rpeaks,\n",
    "                                 sampling_rate=sampling_rate,\n",
    "                                 tol=0.05)\n",
    "    templates, rpeaks = ecg.extract_heartbeats(signal=signal,\n",
    "                                               rpeaks=rpeaks,\n",
    "                                               sampling_rate=sampling_rate,\n",
    "                                               before=0.2,\n",
    "                                               after=0.4)\n",
    "    return rpeaks\n",
    "\n",
    "def create_features(raw_data, fs):\n",
    "    \"\"\"\n",
    "    \"\"\"\n",
    "    data  = raw_data[:, :-1]\n",
    "    label = raw_data[:, -1]\n",
    "\n",
    "    result = []\n",
    "    for x in data:\n",
    "        rpeaks = cal_r_peaks(x, fs)\n",
    "        tmp = rpeaks[1:] - rpeaks[:-1]\n",
    "        rri = tmp / fs\n",
    "\n",
    "        time = timeDomain(rri)\n",
    "    #     time = time_domain(rri)\n",
    "        result.append(list(time.values()))\n",
    "    result = np.array(result)\n",
    "    return result, label"
   ]
  },
  {
   "cell_type": "code",
   "execution_count": 25,
   "metadata": {},
   "outputs": [
    {
     "name": "stdout",
     "output_type": "stream",
     "text": [
      "(3214, 10801)\n",
      "(541, 10801)\n",
      "(529, 10801)\n",
      "(3214, 4)\n",
      "(541, 4)\n",
      "(529, 4)\n"
     ]
    }
   ],
   "source": [
    "training = np.load('training.npy')\n",
    "testing  = np.load('test.npy')\n",
    "evaluate = np.load('more_interpolation.npy')\n",
    "print(training.shape)\n",
    "print(testing.shape)\n",
    "print(evaluate.shape)\n",
    "\n",
    "training_features, training_label = create_features(training, 360)\n",
    "testing_features, testing_label = create_features(testing, 360)\n",
    "evaluate_features, evaluate_label = create_features(evaluate, 360)\n",
    "\n",
    "scaler = StandardScaler()\n",
    "scaler.fit(training_features)\n",
    "scaled_training_features = scaler.transform(training_features)\n",
    "#\n",
    "scaler.fit(testing_features)\n",
    "scaled_testing_features = scaler.transform(testing_features)\n",
    "#\n",
    "scaler.fit(evaluate_features)\n",
    "scaled_evaluate_features = scaler.transform(evaluate_features)\n",
    "\n",
    "print(scaled_training_features.shape)\n",
    "print(scaled_testing_features.shape)\n",
    "print(scaled_evaluate_features.shape)"
   ]
  },
  {
   "cell_type": "code",
   "execution_count": 32,
   "metadata": {},
   "outputs": [
    {
     "name": "stdout",
     "output_type": "stream",
     "text": [
      "the result of test1: \n",
      "0.9205175600739371\n",
      "the result of test2: \n",
      "0.9376181474480151\n"
     ]
    }
   ],
   "source": [
    "model = MLPClassifier(solver='adam', alpha=1e-10, hidden_layer_sizes=((10, 10,10)), random_state=1, learning_rate_init=.01)\n",
    "model.fit(X=scaled_training_features, y=training_label)\n",
    "\n",
    "prediction1 = model.predict(scaled_testing_features)\n",
    "acc1 = accuracy_score(prediction1, testing_label)\n",
    "print(\"the result of test1: \")\n",
    "print(acc1)\n",
    "\n",
    "prediction = model.predict(scaled_evaluate_features)\n",
    "acc = accuracy_score(prediction, evaluate_label)\n",
    "print(\"the result of test2: \")\n",
    "print(acc)"
   ]
  },
  {
   "cell_type": "code",
   "execution_count": 30,
   "metadata": {},
   "outputs": [
    {
     "data": {
      "text/plain": [
       "[<matplotlib.lines.Line2D at 0x7f0337a7fc88>]"
      ]
     },
     "execution_count": 30,
     "metadata": {},
     "output_type": "execute_result"
    },
    {
     "data": {
      "image/png": "[encoded data removed]",
      "text/plain": [
       "<Figure size 432x288 with 1 Axes>"
      ]
     },
     "metadata": {
      "needs_background": "light"
     },
     "output_type": "display_data"
    }
   ],
   "source": [
    "plt.plot(model.loss_curve_)"
   ]
  },
  {
   "cell_type": "code",
   "execution_count": 9,
   "metadata": {},
   "outputs": [
    {
     "data": {
      "text/plain": [
       "array([[149,  19],\n",
       "       [ 23, 350]])"
      ]
     },
     "execution_count": 9,
     "metadata": {},
     "output_type": "execute_result"
    }
   ],
   "source": [
    "from sklearn.metrics import confusion_matrix\n",
    "confusion_matrix(testing_label, prediction1)\n",
    "#confusion_matrix(evaluate_label, prediction)"
   ]
  },
  {
   "cell_type": "code",
   "execution_count": 7,
   "metadata": {},
   "outputs": [
    {
     "name": "stdout",
     "output_type": "stream",
     "text": [
      "[[9.71411899e-05 9.99902859e-01]\n",
      " [1.50230915e-02 9.84976909e-01]\n",
      " [9.99795805e-01 2.04195345e-04]\n",
      " [9.99999980e-01 2.03149253e-08]\n",
      " [1.00000000e+00 3.91673268e-11]]\n",
      "[1. 1. 0. 0. 0.]\n"
     ]
    }
   ],
   "source": [
    "a = scaled_testing_features[0:5]\n",
    "b = testing_label[0:5]\n",
    "print(model.predict_proba(a))\n",
    "print(model.predict(a))"
   ]
  },
  {
   "cell_type": "code",
   "execution_count": null,
   "metadata": {},
   "outputs": [],
   "source": []
  }
 ],
 "metadata": {
  "kernelspec": {
   "display_name": "Python 3",
   "language": "python",
   "name": "python3"
  },
  "language_info": {
   "codemirror_mode": {
    "name": "ipython",
    "version": 3
   },
   "file_extension": ".py",
   "mimetype": "text/x-python",
   "name": "python",
   "nbconvert_exporter": "python",
   "pygments_lexer": "ipython3",
   "version": "3.5.2"
  }
 },
 "nbformat": 4,
 "nbformat_minor": 2
}
